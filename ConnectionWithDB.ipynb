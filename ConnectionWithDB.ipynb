{
 "cells": [
  {
   "cell_type": "code",
   "execution_count": 2,
   "metadata": {},
   "outputs": [],
   "source": [
    "import sqlite3"
   ]
  },
  {
   "cell_type": "code",
   "execution_count": 3,
   "metadata": {},
   "outputs": [],
   "source": [
    "# 5 steps to interact with database\n",
    "    # Connect to database\n",
    "    # Create a cursor object\n",
    "    # Write an SQL query\n",
    "    # Commit changes\n",
    "    # close database connection"
   ]
  },
  {
   "cell_type": "code",
   "execution_count": 16,
   "metadata": {},
   "outputs": [],
   "source": [
    "conn=sqlite3.connect(\"lite.db\")"
   ]
  },
  {
   "cell_type": "code",
   "execution_count": 17,
   "metadata": {},
   "outputs": [],
   "source": [
    "cur=conn.cursor()"
   ]
  },
  {
   "cell_type": "code",
   "execution_count": 12,
   "metadata": {},
   "outputs": [
    {
     "ename": "ProgrammingError",
     "evalue": "Cannot operate on a closed database.",
     "output_type": "error",
     "traceback": [
      "\u001b[1;31m---------------------------------------------------------------------------\u001b[0m",
      "\u001b[1;31mProgrammingError\u001b[0m                          Traceback (most recent call last)",
      "\u001b[1;32m<ipython-input-12-6dba887f5d0f>\u001b[0m in \u001b[0;36m<module>\u001b[1;34m\u001b[0m\n\u001b[1;32m----> 1\u001b[1;33m \u001b[0mcur\u001b[0m\u001b[1;33m.\u001b[0m\u001b[0mexecute\u001b[0m\u001b[1;33m(\u001b[0m\u001b[1;34m\"CREATE TABLE store (item TEXT, quantity INTEGER, price REAL)\"\u001b[0m\u001b[1;33m)\u001b[0m\u001b[1;33m\u001b[0m\u001b[1;33m\u001b[0m\u001b[0m\n\u001b[0m",
      "\u001b[1;31mProgrammingError\u001b[0m: Cannot operate on a closed database."
     ]
    }
   ],
   "source": [
    "cur.execute(\"CREATE TABLE store (item TEXT, quantity INTEGER, price REAL)\")"
   ]
  },
  {
   "cell_type": "code",
   "execution_count": 18,
   "metadata": {},
   "outputs": [
    {
     "data": {
      "text/plain": [
       "<sqlite3.Cursor at 0x161b1593490>"
      ]
     },
     "execution_count": 18,
     "metadata": {},
     "output_type": "execute_result"
    }
   ],
   "source": [
    "cur.execute(\"INSERT INTO store VALUES ('wine glass',8,10.5)\")"
   ]
  },
  {
   "cell_type": "code",
   "execution_count": 19,
   "metadata": {},
   "outputs": [],
   "source": [
    "conn.commit()"
   ]
  },
  {
   "cell_type": "code",
   "execution_count": 20,
   "metadata": {},
   "outputs": [],
   "source": [
    "conn.close()"
   ]
  },
  {
   "cell_type": "code",
   "execution_count": 45,
   "metadata": {},
   "outputs": [
    {
     "name": "stdout",
     "output_type": "stream",
     "text": [
      "[('coffee cup', 10, 5.0), ('coffee cup', 10, 5.0), ('coffee cup', 10, 5.0), ('coffee cup', 10, 5.0), ('coffee cup', 10, 5.0), ('coffee cup', 10, 5.0), ('coffee cup', 10, 5.0), ('Water glass', 12, 6.0)]\n"
     ]
    }
   ],
   "source": [
    "def create_table():\n",
    "    conn=sqlite3.connect(\"lite.db\")\n",
    "    cur=conn.cursor()\n",
    "    cur.execute(\"CREATE TABLE store (item TEXT, quantity INTEGER, price REAL)\")\n",
    "    conn.commit()\n",
    "    conn.close()\n",
    "    \n",
    "def insert(item,quantity,price):\n",
    "    conn=sqlite3.connect(\"lite.db\")\n",
    "    cur=conn.cursor()\n",
    "    cur.execute(\"INSERT INTO store VALUES (?,?,?)\",(item,quantity,price))\n",
    "    conn.commit()\n",
    "    conn.close()\n",
    "    \n",
    "def view():\n",
    "    conn=sqlite3.connect(\"lite.db\")\n",
    "    cur=conn.cursor()\n",
    "    cur.execute(\"select * from store\")\n",
    "    rows=cur.fetchall()\n",
    "    conn.close()\n",
    "    return rows\n",
    "\n",
    "def delete(item):\n",
    "    conn=sqlite3.connect(\"lite.db\")\n",
    "    cur=conn.cursor()\n",
    "    cur.execute(\"delete from store where item=?\",(item,))\n",
    "    conn.commit()\n",
    "    conn.close()\n",
    "    \n",
    "    \n",
    "def update(quantity,price,item):\n",
    "    conn=sqlite3.connect(\"lite.db\")\n",
    "    cur=conn.cursor()\n",
    "    cur.execute(\"update store set quantity=?, price=? where item=?\",(quantity,price,item))\n",
    "    conn.commit()\n",
    "    conn.close()\n",
    "\n",
    "\n",
    "#delete(\"wine glass\")\n",
    "update(12,6,\"Water glass\")\n",
    "#insert(\"wine glass\",10,5)\n",
    "print(view())\n",
    "    \n",
    "    "
   ]
  },
  {
   "cell_type": "code",
   "execution_count": null,
   "metadata": {},
   "outputs": [],
   "source": [
    "import pyscopg2\n",
    "\n",
    "\n",
    "def create_table():\n",
    "    conn=pyscopg2.connect(\"dbname='database1' user='postgre' password='postgre123' host='localhost' port='5432'\")\n",
    "    cur=conn.cursor()\n",
    "    cur.execute(\"CREATE TABLE store (item TEXT, quantity INTEGER, price REAL)\")\n",
    "    conn.commit()\n",
    "    conn.close()\n",
    "    \n",
    "def insert(item,quantity,price):\n",
    "    conn=pyscopg2.connect(\"dbname='database1' user='postgre' password='postgre123' host='localhost' port='5432'\")\n",
    "    cur=conn.cursor()\n",
    "    cur.execute(\"INSERT INTO store VALUES (%s,%s,%s)\",(item,quantity,price))\n",
    "    conn.commit()\n",
    "    conn.close()\n",
    "    \n",
    "def view():\n",
    "    conn=pyscopg2.connect(\"dbname='database1' user='postgre' password='postgre123' host='localhost' port='5432'\")\n",
    "    cur=conn.cursor()\n",
    "    cur.execute(\"select * from store\")\n",
    "    rows=cur.fetchall()\n",
    "    conn.close()\n",
    "    return rows\n",
    "\n",
    "def delete(item):\n",
    "    conn=pyscopg2.connect(dbname='database1' user='postgre' password='postgre123' host='localhost' port='5432'\")\n",
    "    cur=conn.cursor()\n",
    "    cur.execute(\"delete from store where item=%s\",(item,))\n",
    "    conn.commit()\n",
    "    conn.close()\n",
    "    \n",
    "    \n",
    "def update(quantity,price,item):\n",
    "    conn=pyscopg2.connect(\"dbname='database1' user='postgre' password='postgre123' host='localhost' port='5432'\")\n",
    "    cur=conn.cursor()\n",
    "    cur.execute(\"update store set quantity=%s, price=%s where item=%s\",(quantity,price,item))\n",
    "    conn.commit()\n",
    "    conn.close()\n",
    "\n",
    "\n",
    "#delete(\"wine glass\")\n",
    "#update(12,6,\"Water glass\")\n",
    "#insert(\"wine glass\",10,5)\n",
    "#print(view())\n",
    "    \n",
    "    "
   ]
  },
  {
   "cell_type": "code",
   "execution_count": null,
   "metadata": {},
   "outputs": [],
   "source": []
  },
  {
   "cell_type": "code",
   "execution_count": null,
   "metadata": {},
   "outputs": [],
   "source": []
  },
  {
   "cell_type": "code",
   "execution_count": null,
   "metadata": {},
   "outputs": [],
   "source": []
  },
  {
   "cell_type": "code",
   "execution_count": null,
   "metadata": {},
   "outputs": [],
   "source": []
  },
  {
   "cell_type": "code",
   "execution_count": null,
   "metadata": {},
   "outputs": [],
   "source": []
  },
  {
   "cell_type": "code",
   "execution_count": null,
   "metadata": {},
   "outputs": [],
   "source": []
  }
 ],
 "metadata": {
  "kernelspec": {
   "display_name": "Python 3",
   "language": "python",
   "name": "python3"
  },
  "language_info": {
   "codemirror_mode": {
    "name": "ipython",
    "version": 3
   },
   "file_extension": ".py",
   "mimetype": "text/x-python",
   "name": "python",
   "nbconvert_exporter": "python",
   "pygments_lexer": "ipython3",
   "version": "3.7.3"
  }
 },
 "nbformat": 4,
 "nbformat_minor": 2
}
